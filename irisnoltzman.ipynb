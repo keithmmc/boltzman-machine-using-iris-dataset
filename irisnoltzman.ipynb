{
 "cells": [
  {
   "cell_type": "code",
   "execution_count": 1,
   "metadata": {},
   "outputs": [],
   "source": [
    "import numpy as np\n",
    "import pandas as pd\n",
    "from sklearn.preprocessing import MinMaxScaler, OneHotEncoder\n",
    "from sklearn.model_selection import train_test_split"
   ]
  },
  {
   "cell_type": "code",
   "execution_count": 2,
   "metadata": {},
   "outputs": [],
   "source": [
    "from sklearn.datasets import load_iris\n",
    "data = load_iris()\n",
    "X = data.data \n",
    "y = data.target.reshape(-1,1)"
   ]
  },
  {
   "cell_type": "code",
   "execution_count": 3,
   "metadata": {},
   "outputs": [],
   "source": [
    "scaler = MinMaxScaler()\n",
    "X = scaler.fit_transform(X)"
   ]
  },
  {
   "cell_type": "code",
   "execution_count": 6,
   "metadata": {},
   "outputs": [],
   "source": [
    "# One-hot encode labels\n",
    "encoder = OneHotEncoder(sparse_output=False)\n",
    "y = encoder.fit_transform(y)"
   ]
  },
  {
   "cell_type": "code",
   "execution_count": 7,
   "metadata": {},
   "outputs": [],
   "source": [
    "# Combine features and labels\n",
    "X = np.hstack((X, y))\n"
   ]
  },
  {
   "cell_type": "code",
   "execution_count": 8,
   "metadata": {},
   "outputs": [],
   "source": [
    "X_train, X_test = train_test_split(X, test_size=0.2, random_state=42)\n"
   ]
  },
  {
   "cell_type": "code",
   "execution_count": 9,
   "metadata": {},
   "outputs": [],
   "source": [
    "num_visible = X_train.shape[1]\n",
    "num_hidden = 10 \n",
    "learning_rate = 0.1 \n",
    "epochs = 100 "
   ]
  },
  {
   "cell_type": "code",
   "execution_count": 10,
   "metadata": {},
   "outputs": [],
   "source": [
    "np.random.seed(42)\n",
    "weights = np.random.randn(num_visible, num_hidden) * 0.1 \n",
    "hidden_bias = np.zeros(num_hidden)\n",
    "visible_bias = np.zeros(num_visible)"
   ]
  },
  {
   "cell_type": "code",
   "execution_count": 12,
   "metadata": {},
   "outputs": [],
   "source": [
    "# Sigmoid activation function\n",
    "def sigmoid(x):\n",
    "    return 1 / (1 + np.exp(-x))\n",
    "\n",
    "# Store loss values for plotting\n",
    "loss_values = []\n",
    "\n",
    "# Training RBM using Contrastive Divergence (CD-1) with loss tracking\n",
    "for epoch in range(epochs):\n",
    "    for sample in X_train:\n",
    "        # Positive phase\n",
    "        hidden_prob = sigmoid(np.dot(sample, weights) + hidden_bias)\n",
    "        hidden_states = (hidden_prob > np.random.rand(num_hidden)).astype(float)\n",
    "\n",
    "        # Reconstruct visible layer\n",
    "        visible_prob = sigmoid(np.dot(hidden_states, weights.T) + visible_bias)\n",
    "        \n",
    "        # Negative phase\n",
    "        hidden_prob_neg = sigmoid(np.dot(visible_prob, weights) + hidden_bias)\n",
    "        \n",
    "        # Weight updates\n",
    "        weights += learning_rate * (np.outer(sample, hidden_prob) - np.outer(visible_prob, hidden_prob_neg))\n",
    "        visible_bias += learning_rate * (sample - visible_prob)\n",
    "        hidden_bias += learning_rate * (hidden_prob - hidden_prob_neg)\n",
    "    \n",
    "    # Compute loss every epoch\n",
    "    loss = np.mean((X_train - visible_prob) ** 2)\n",
    "    loss_values.append(loss)\n"
   ]
  },
  {
   "cell_type": "code",
   "execution_count": 32,
   "metadata": {},
   "outputs": [
    {
     "name": "stdout",
     "output_type": "stream",
     "text": [
      "RBM Loss over Epochs:\n",
      "Epoch 1: Loss = 0.2634\n",
      "Epoch 2: Loss = 0.2531\n",
      "Epoch 3: Loss = 0.2640\n",
      "Epoch 4: Loss = 0.2649\n",
      "Epoch 5: Loss = 0.2982\n",
      "Epoch 6: Loss = 0.2643\n",
      "Epoch 7: Loss = 0.2615\n",
      "Epoch 8: Loss = 0.2603\n",
      "Epoch 9: Loss = 0.2600\n",
      "Epoch 10: Loss = 0.2608\n",
      "Epoch 11: Loss = 0.2639\n",
      "Epoch 12: Loss = 0.2617\n",
      "Epoch 13: Loss = 0.2601\n",
      "Epoch 14: Loss = 0.2587\n",
      "Epoch 15: Loss = 0.2635\n",
      "Epoch 16: Loss = 0.2635\n",
      "Epoch 17: Loss = 0.2631\n",
      "Epoch 18: Loss = 0.2597\n",
      "Epoch 19: Loss = 0.2599\n",
      "Epoch 20: Loss = 0.3050\n",
      "Epoch 21: Loss = 0.3070\n",
      "Epoch 22: Loss = 0.3012\n",
      "Epoch 23: Loss = 0.3107\n",
      "Epoch 24: Loss = 0.2608\n",
      "Epoch 25: Loss = 0.3079\n",
      "Epoch 26: Loss = 0.2611\n",
      "Epoch 27: Loss = 0.3061\n",
      "Epoch 28: Loss = 0.2577\n",
      "Epoch 29: Loss = 0.2600\n",
      "Epoch 30: Loss = 0.2590\n",
      "Epoch 31: Loss = 0.2630\n",
      "Epoch 32: Loss = 0.2621\n",
      "Epoch 33: Loss = 0.2610\n",
      "Epoch 34: Loss = 0.2579\n",
      "Epoch 35: Loss = 0.2598\n",
      "Epoch 36: Loss = 0.2633\n",
      "Epoch 37: Loss = 0.2617\n",
      "Epoch 38: Loss = 0.3038\n",
      "Epoch 39: Loss = 0.2597\n",
      "Epoch 40: Loss = 0.2613\n",
      "Epoch 41: Loss = 0.2325\n",
      "Epoch 42: Loss = 0.3124\n",
      "Epoch 43: Loss = 0.2607\n",
      "Epoch 44: Loss = 0.2606\n",
      "Epoch 45: Loss = 0.2608\n",
      "Epoch 46: Loss = 0.2641\n",
      "Epoch 47: Loss = 0.2610\n",
      "Epoch 48: Loss = 0.2579\n",
      "Epoch 49: Loss = 0.2568\n",
      "Epoch 50: Loss = 0.2636\n",
      "Epoch 51: Loss = 0.3094\n",
      "Epoch 52: Loss = 0.2603\n",
      "Epoch 53: Loss = 0.3029\n",
      "Epoch 54: Loss = 0.2604\n",
      "Epoch 55: Loss = 0.2611\n",
      "Epoch 56: Loss = 0.2610\n",
      "Epoch 57: Loss = 0.3099\n",
      "Epoch 58: Loss = 0.3098\n",
      "Epoch 59: Loss = 0.2584\n",
      "Epoch 60: Loss = 0.2606\n",
      "Epoch 61: Loss = 0.3107\n",
      "Epoch 62: Loss = 0.2650\n",
      "Epoch 63: Loss = 0.2598\n",
      "Epoch 64: Loss = 0.2642\n",
      "Epoch 65: Loss = 0.3057\n",
      "Epoch 66: Loss = 0.2620\n",
      "Epoch 67: Loss = 0.3089\n",
      "Epoch 68: Loss = 0.3100\n",
      "Epoch 69: Loss = 0.3107\n",
      "Epoch 70: Loss = 0.2630\n",
      "Epoch 71: Loss = 0.2649\n",
      "Epoch 72: Loss = 0.3045\n",
      "Epoch 73: Loss = 0.2610\n",
      "Epoch 74: Loss = 0.3166\n",
      "Epoch 75: Loss = 0.2619\n",
      "Epoch 76: Loss = 0.2590\n",
      "Epoch 77: Loss = 0.2614\n",
      "Epoch 78: Loss = 0.2584\n",
      "Epoch 79: Loss = 0.2555\n",
      "Epoch 80: Loss = 0.2600\n",
      "Epoch 81: Loss = 0.2591\n",
      "Epoch 82: Loss = 0.3134\n",
      "Epoch 83: Loss = 0.2629\n",
      "Epoch 84: Loss = 0.2587\n",
      "Epoch 85: Loss = 0.2570\n",
      "Epoch 86: Loss = 0.2318\n",
      "Epoch 87: Loss = 0.2606\n",
      "Epoch 88: Loss = 0.2583\n",
      "Epoch 89: Loss = 0.2318\n",
      "Epoch 90: Loss = 0.2715\n",
      "Epoch 91: Loss = 0.2523\n",
      "Epoch 92: Loss = 0.2582\n",
      "Epoch 93: Loss = 0.2576\n",
      "Epoch 94: Loss = 0.2664\n",
      "Epoch 95: Loss = 0.3165\n",
      "Epoch 96: Loss = 0.2586\n",
      "Epoch 97: Loss = 0.3125\n",
      "Epoch 98: Loss = 0.2583\n",
      "Epoch 99: Loss = 0.2574\n",
      "Epoch 100: Loss = 0.2557\n"
     ]
    }
   ],
   "source": [
    "# Print loss values\n",
    "print(\"RBM Loss over Epochs:\")\n",
    "for i, loss in enumerate(loss_values):\n",
    "    print(f\"Epoch {i+1}: Loss = {loss:.4f}\")"
   ]
  },
  {
   "cell_type": "code",
   "execution_count": 33,
   "metadata": {},
   "outputs": [
    {
     "data": {
      "image/png": "[encoded data removed]",
      "text/plain": [
       "<Figure size 800x500 with 1 Axes>"
      ]
     },
     "metadata": {},
     "output_type": "display_data"
    }
   ],
   "source": [
    "import matplotlib.pyplot as plt\n",
    "\n",
    "# Plot loss over epochs\n",
    "plt.figure(figsize=(8, 5))\n",
    "plt.plot(range(1, epochs + 1), loss_values, marker='o', linestyle='-')\n",
    "plt.xlabel(\"Epochs\")\n",
    "plt.ylabel(\"Reconstruction Loss\")\n",
    "plt.title(\"Training Loss of RBM on Iris Dataset\")\n",
    "plt.grid(True)\n",
    "plt.show()"
   ]
  },
  {
   "cell_type": "code",
   "execution_count": 34,
   "metadata": {},
   "outputs": [],
   "source": [
    "from tensorflow import keras\n",
    "from tensorflow.keras import layers\n",
    "from sklearn.preprocessing import MinMaxScaler, OneHotEncoder\n",
    "from sklearn.model_selection import train_test_split"
   ]
  },
  {
   "cell_type": "code",
   "execution_count": 35,
   "metadata": {},
   "outputs": [],
   "source": [
    "X = data.data  # Features\n",
    "y = data.target.reshape(-1, 1)  # Labels\n",
    "\n",
    "# Normalize features between 0 and 1\n",
    "scaler = MinMaxScaler()\n",
    "X = scaler.fit_transform(X)\n",
    "\n",
    "# One-hot encode labels\n",
    "encoder = OneHotEncoder(sparse_output=False)\n",
    "y = encoder.fit_transform(y)\n",
    "\n",
    "# Split into training and testing\n",
    "X_train, X_test, y_train, y_test = train_test_split(X, y, test_size=0.2, random_state=42)\n",
    "\n",
    "# Reshape data correctly for 1D CNN\n",
    "X_train_cnn = X_train.reshape(X_train.shape[0], 4, 1)\n",
    "X_test_cnn = X_test.reshape(X_test.shape[0], 4, 1)\n"
   ]
  },
  {
   "cell_type": "code",
   "execution_count": 36,
   "metadata": {},
   "outputs": [
    {
     "name": "stderr",
     "output_type": "stream",
     "text": [
      "c:\\Users\\keith\\anaconda3\\Lib\\site-packages\\keras\\src\\layers\\convolutional\\base_conv.py:107: UserWarning: Do not pass an `input_shape`/`input_dim` argument to a layer. When using Sequential models, prefer using an `Input(shape)` object as the first layer in the model instead.\n",
      "  super().__init__(activity_regularizer=activity_regularizer, **kwargs)\n"
     ]
    }
   ],
   "source": [
    "# Build 1D CNN model\n",
    "cnn_model = keras.Sequential([\n",
    "    layers.Conv1D(16, 2, activation='relu', input_shape=(4, 1)),\n",
    "    layers.Flatten(),\n",
    "    layers.Dense(10, activation='relu'),\n",
    "    layers.Dense(3, activation='softmax')\n",
    "])"
   ]
  },
  {
   "cell_type": "code",
   "execution_count": 37,
   "metadata": {},
   "outputs": [],
   "source": [
    "cnn_model.compile(optimizer='adam', loss='categorical_crossentropy', metrics=['accuracy'])\n",
    "cnn_model.fit(X_train_cnn, y_train, epochs=50, verbose=0, validation_data=(X_test_cnn, y_test))\n",
    "\n",
    "# Evaluate CNN\n",
    "cnn_acc = cnn_model.evaluate(X_test_cnn, y_test, verbose=0)[1]\n"
   ]
  },
  {
   "cell_type": "code",
   "execution_count": null,
   "metadata": {},
   "outputs": [
    {
     "name": "stdout",
     "output_type": "stream",
     "text": [
      "CNN Accuracy: 0.8000\n"
     ]
    }
   ],
   "source": [
    "from sklearn.metrics import accuracy_score\n",
    "\n",
    "\n",
    "\n"
   ]
  },
  {
   "cell_type": "code",
   "execution_count": 41,
   "metadata": {},
   "outputs": [],
   "source": [
    "from sklearn.neighbors import KNeighborsClassifier"
   ]
  },
  {
   "cell_type": "code",
   "execution_count": 43,
   "metadata": {},
   "outputs": [],
   "source": [
    "# KNN Model\n",
    "knn = KNeighborsClassifier(n_neighbors=3)\n",
    "knn.fit(X_train, np.argmax(y_train, axis=1))\n",
    "knn_acc = accuracy_score(np.argmax(y_test, axis=1), knn.predict(X_test))\n",
    "\n"
   ]
  },
  {
   "cell_type": "code",
   "execution_count": 46,
   "metadata": {},
   "outputs": [],
   "source": [
    "from sklearn.svm import SVC"
   ]
  },
  {
   "cell_type": "code",
   "execution_count": 47,
   "metadata": {},
   "outputs": [],
   "source": [
    "# SVM Model\n",
    "svm = SVC(kernel='linear')\n",
    "svm.fit(X_train, np.argmax(y_train, axis=1))\n",
    "svm_acc = accuracy_score(np.argmax(y_test, axis=1), svm.predict(X_test))"
   ]
  },
  {
   "cell_type": "code",
   "execution_count": 48,
   "metadata": {},
   "outputs": [
    {
     "name": "stdout",
     "output_type": "stream",
     "text": [
      "CNN Accuracy: 0.8000\n",
      "KNN Accuracy: 1.0000\n",
      "SVM Accuracy: 1.0000\n"
     ]
    }
   ],
   "source": [
    "print(f\"CNN Accuracy: {cnn_acc:.4f}\")\n",
    "print(f\"KNN Accuracy: {knn_acc:.4f}\")\n",
    "print(f\"SVM Accuracy: {svm_acc:.4f}\")"
   ]
  }
 ],
 "metadata": {
  "kernelspec": {
   "display_name": "base",
   "language": "python",
   "name": "python3"
  },
  "language_info": {
   "codemirror_mode": {
    "name": "ipython",
    "version": 3
   },
   "file_extension": ".py",
   "mimetype": "text/x-python",
   "name": "python",
   "nbconvert_exporter": "python",
   "pygments_lexer": "ipython3",
   "version": "3.12.7"
  }
 },
 "nbformat": 4,
 "nbformat_minor": 2
}
